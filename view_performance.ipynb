{
 "cells": [
  {
   "cell_type": "code",
   "execution_count": null,
   "metadata": {},
   "outputs": [],
   "source": [
    "from torch.utils.tensorboard import SummaryWriter\n",
    "\n",
    "# Initialize the TensorBoard writer\n",
    "writer = SummaryWriter(log_dir='logs/experiment1')\n",
    "\n",
    "# Assuming you have saved your metrics (e.g., in lists)\n",
    "saved_epochs = list(range(num_epochs))  # Example epoch numbers\n",
    "saved_losses = [...]  # Your saved loss values\n",
    "saved_accuracies = [...]  # Your saved accuracy values\n",
    "\n",
    "# Log metrics\n",
    "for epoch, (loss, accuracy) in zip(saved_epochs, zip(saved_losses, saved_accuracies)):\n",
    "    writer.add_scalar('Loss/train', loss, epoch)\n",
    "    writer.add_scalar('Accuracy/train', accuracy, epoch)\n",
    "\n",
    "# Close the writer\n",
    "writer.close()"
   ]
  }
 ],
 "metadata": {
  "language_info": {
   "name": "python"
  }
 },
 "nbformat": 4,
 "nbformat_minor": 2
}
